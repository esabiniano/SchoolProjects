{
 "cells": [
  {
   "cell_type": "markdown",
   "metadata": {},
   "source": [
    "<img src=\"https://winefolly-wpengine.netdna-ssl.com/wp-content/uploads/2016/02/a-glass-of-wine-a-day-folly.jpg\" alt=\"Annotation Examples\" style=\"width:600px\">"
   ]
  },
  {
   "cell_type": "markdown",
   "metadata": {},
   "source": [
    "<center><h1> Midterm - Wine Quality Data </h1>\n",
    "<br> Elizabeth Sabiniano </br>\n",
    "<br> 862188616 </br></center>"
   ]
  },
  {
   "cell_type": "markdown",
   "metadata": {},
   "source": [
    "### Data Exploration ###\n",
    "\n",
    "**Background:**\n",
    "\n",
    "The data depicts the following components of red and white wine:\n",
    "    1. Fixed acidity\n",
    "    2. Volatile acidity\n",
    "    3. Citric acid level\n",
    "    4. Residual sugar\n",
    "    5. Chlorides\n",
    "    6. Free sulfur dioxide\n",
    "    7. Total sulfur dioxide\n",
    "    8. Density\n",
    "    9. pH level\n",
    "    10. Sulphates\n",
    "    11. Alcohol content\n",
    "    \n",
    "Based on the components above, the wine is given a score between 0 to 10 for its qaulity. The goal of this analysis is to explore some ways in which we can use the sensory details provided from the components of each wine tested and classify the quality of wine.\n",
    "\n",
    "In order to do this, we need to familiarize with the data structure and relationships between each variable and with the response variable. A good way of exploring this is looking at the correlation of each input features and the response. Another way is to see the distribution of the scores for each input variables along with the distribution of each input features to detect any possible outliers"
   ]
  },
  {
   "cell_type": "code",
   "execution_count": 192,
   "metadata": {},
   "outputs": [],
   "source": [
    "# load relevant libraries\n",
    "import pandas as pd\n",
    "import numpy as np\n",
    "import matplotlib.pyplot as plt\n",
    "import seaborn as sns\n",
    "from scipy.stats import zscore\n",
    "from sklearn.neighbors import KNeighborsClassifier\n",
    "from sklearn.linear_model import LogisticRegression\n",
    "from sklearn.preprocessing import LabelEncoder\n",
    "from sklearn.preprocessing import StandardScaler\n",
    "from sklearn.model_selection import train_test_split\n",
    "from sklearn.metrics import classification_report,accuracy_score, confusion_matrix\n",
    "from sklearn.model_selection import cross_val_score\n",
    "from sklearn.model_selection import GridSearchCV\n",
    "\n",
    "import warnings\n",
    "warnings.filterwarnings(action = 'once')"
   ]
  },
  {
   "cell_type": "code",
   "execution_count": null,
   "metadata": {},
   "outputs": [],
   "source": [
    "wine_db = pd.read_csv(\"winequality-red.csv\", sep = ';')"
   ]
  },
  {
   "cell_type": "markdown",
   "metadata": {},
   "source": [
    "Let's look at the data type and summary statistics for our data. Let's also check for any outliers."
   ]
  },
  {
   "cell_type": "code",
   "execution_count": 2,
   "metadata": {
    "scrolled": false
   },
   "outputs": [
    {
     "name": "stdout",
     "output_type": "stream",
     "text": [
      "<class 'pandas.core.frame.DataFrame'>\n",
      "RangeIndex: 1599 entries, 0 to 1598\n",
      "Data columns (total 12 columns):\n",
      "fixed acidity           1599 non-null float64\n",
      "volatile acidity        1599 non-null float64\n",
      "citric acid             1599 non-null float64\n",
      "residual sugar          1599 non-null float64\n",
      "chlorides               1599 non-null float64\n",
      "free sulfur dioxide     1599 non-null float64\n",
      "total sulfur dioxide    1599 non-null float64\n",
      "density                 1599 non-null float64\n",
      "pH                      1599 non-null float64\n",
      "sulphates               1599 non-null float64\n",
      "alcohol                 1599 non-null float64\n",
      "quality                 1599 non-null int64\n",
      "dtypes: float64(11), int64(1)\n",
      "memory usage: 150.0 KB\n"
     ]
    }
   ],
   "source": [
    "wine_db.info()"
   ]
  },
  {
   "cell_type": "code",
   "execution_count": 3,
   "metadata": {
    "scrolled": true
   },
   "outputs": [
    {
     "data": {
      "text/html": [
       "<div>\n",
       "<style scoped>\n",
       "    .dataframe tbody tr th:only-of-type {\n",
       "        vertical-align: middle;\n",
       "    }\n",
       "\n",
       "    .dataframe tbody tr th {\n",
       "        vertical-align: top;\n",
       "    }\n",
       "\n",
       "    .dataframe thead th {\n",
       "        text-align: right;\n",
       "    }\n",
       "</style>\n",
       "<table border=\"1\" class=\"dataframe\">\n",
       "  <thead>\n",
       "    <tr style=\"text-align: right;\">\n",
       "      <th></th>\n",
       "      <th>fixed acidity</th>\n",
       "      <th>volatile acidity</th>\n",
       "      <th>citric acid</th>\n",
       "      <th>residual sugar</th>\n",
       "      <th>chlorides</th>\n",
       "      <th>free sulfur dioxide</th>\n",
       "      <th>total sulfur dioxide</th>\n",
       "      <th>density</th>\n",
       "      <th>pH</th>\n",
       "      <th>sulphates</th>\n",
       "      <th>alcohol</th>\n",
       "      <th>quality</th>\n",
       "    </tr>\n",
       "  </thead>\n",
       "  <tbody>\n",
       "    <tr>\n",
       "      <th>0</th>\n",
       "      <td>7.4</td>\n",
       "      <td>0.70</td>\n",
       "      <td>0.00</td>\n",
       "      <td>1.9</td>\n",
       "      <td>0.076</td>\n",
       "      <td>11.0</td>\n",
       "      <td>34.0</td>\n",
       "      <td>0.9978</td>\n",
       "      <td>3.51</td>\n",
       "      <td>0.56</td>\n",
       "      <td>9.4</td>\n",
       "      <td>5</td>\n",
       "    </tr>\n",
       "    <tr>\n",
       "      <th>1</th>\n",
       "      <td>7.8</td>\n",
       "      <td>0.88</td>\n",
       "      <td>0.00</td>\n",
       "      <td>2.6</td>\n",
       "      <td>0.098</td>\n",
       "      <td>25.0</td>\n",
       "      <td>67.0</td>\n",
       "      <td>0.9968</td>\n",
       "      <td>3.20</td>\n",
       "      <td>0.68</td>\n",
       "      <td>9.8</td>\n",
       "      <td>5</td>\n",
       "    </tr>\n",
       "    <tr>\n",
       "      <th>2</th>\n",
       "      <td>7.8</td>\n",
       "      <td>0.76</td>\n",
       "      <td>0.04</td>\n",
       "      <td>2.3</td>\n",
       "      <td>0.092</td>\n",
       "      <td>15.0</td>\n",
       "      <td>54.0</td>\n",
       "      <td>0.9970</td>\n",
       "      <td>3.26</td>\n",
       "      <td>0.65</td>\n",
       "      <td>9.8</td>\n",
       "      <td>5</td>\n",
       "    </tr>\n",
       "    <tr>\n",
       "      <th>3</th>\n",
       "      <td>11.2</td>\n",
       "      <td>0.28</td>\n",
       "      <td>0.56</td>\n",
       "      <td>1.9</td>\n",
       "      <td>0.075</td>\n",
       "      <td>17.0</td>\n",
       "      <td>60.0</td>\n",
       "      <td>0.9980</td>\n",
       "      <td>3.16</td>\n",
       "      <td>0.58</td>\n",
       "      <td>9.8</td>\n",
       "      <td>6</td>\n",
       "    </tr>\n",
       "    <tr>\n",
       "      <th>4</th>\n",
       "      <td>7.4</td>\n",
       "      <td>0.70</td>\n",
       "      <td>0.00</td>\n",
       "      <td>1.9</td>\n",
       "      <td>0.076</td>\n",
       "      <td>11.0</td>\n",
       "      <td>34.0</td>\n",
       "      <td>0.9978</td>\n",
       "      <td>3.51</td>\n",
       "      <td>0.56</td>\n",
       "      <td>9.4</td>\n",
       "      <td>5</td>\n",
       "    </tr>\n",
       "  </tbody>\n",
       "</table>\n",
       "</div>"
      ],
      "text/plain": [
       "   fixed acidity  volatile acidity  citric acid  residual sugar  chlorides  \\\n",
       "0            7.4              0.70         0.00             1.9      0.076   \n",
       "1            7.8              0.88         0.00             2.6      0.098   \n",
       "2            7.8              0.76         0.04             2.3      0.092   \n",
       "3           11.2              0.28         0.56             1.9      0.075   \n",
       "4            7.4              0.70         0.00             1.9      0.076   \n",
       "\n",
       "   free sulfur dioxide  total sulfur dioxide  density    pH  sulphates  \\\n",
       "0                 11.0                  34.0   0.9978  3.51       0.56   \n",
       "1                 25.0                  67.0   0.9968  3.20       0.68   \n",
       "2                 15.0                  54.0   0.9970  3.26       0.65   \n",
       "3                 17.0                  60.0   0.9980  3.16       0.58   \n",
       "4                 11.0                  34.0   0.9978  3.51       0.56   \n",
       "\n",
       "   alcohol  quality  \n",
       "0      9.4        5  \n",
       "1      9.8        5  \n",
       "2      9.8        5  \n",
       "3      9.8        6  \n",
       "4      9.4        5  "
      ]
     },
     "execution_count": 3,
     "metadata": {},
     "output_type": "execute_result"
    }
   ],
   "source": [
    "wine_db.head()"
   ]
  },
  {
   "cell_type": "code",
   "execution_count": 138,
   "metadata": {},
   "outputs": [
    {
     "data": {
      "text/html": [
       "<div>\n",
       "<style scoped>\n",
       "    .dataframe tbody tr th:only-of-type {\n",
       "        vertical-align: middle;\n",
       "    }\n",
       "\n",
       "    .dataframe tbody tr th {\n",
       "        vertical-align: top;\n",
       "    }\n",
       "\n",
       "    .dataframe thead th {\n",
       "        text-align: right;\n",
       "    }\n",
       "</style>\n",
       "<table border=\"1\" class=\"dataframe\">\n",
       "  <thead>\n",
       "    <tr style=\"text-align: right;\">\n",
       "      <th></th>\n",
       "      <th>fixed acidity</th>\n",
       "      <th>volatile acidity</th>\n",
       "      <th>citric acid</th>\n",
       "      <th>residual sugar</th>\n",
       "      <th>chlorides</th>\n",
       "      <th>free sulfur dioxide</th>\n",
       "      <th>total sulfur dioxide</th>\n",
       "      <th>density</th>\n",
       "      <th>pH</th>\n",
       "      <th>sulphates</th>\n",
       "      <th>alcohol</th>\n",
       "      <th>quality</th>\n",
       "    </tr>\n",
       "  </thead>\n",
       "  <tbody>\n",
       "    <tr>\n",
       "      <th>count</th>\n",
       "      <td>1599.0</td>\n",
       "      <td>1599.0</td>\n",
       "      <td>1599.0</td>\n",
       "      <td>1599.0</td>\n",
       "      <td>1599.0</td>\n",
       "      <td>1599.0</td>\n",
       "      <td>1599.0</td>\n",
       "      <td>1599.0</td>\n",
       "      <td>1599.0</td>\n",
       "      <td>1599.0</td>\n",
       "      <td>1599.0</td>\n",
       "      <td>1599.0</td>\n",
       "    </tr>\n",
       "    <tr>\n",
       "      <th>mean</th>\n",
       "      <td>8.0</td>\n",
       "      <td>1.0</td>\n",
       "      <td>0.0</td>\n",
       "      <td>3.0</td>\n",
       "      <td>0.0</td>\n",
       "      <td>16.0</td>\n",
       "      <td>46.0</td>\n",
       "      <td>1.0</td>\n",
       "      <td>3.0</td>\n",
       "      <td>1.0</td>\n",
       "      <td>10.0</td>\n",
       "      <td>6.0</td>\n",
       "    </tr>\n",
       "    <tr>\n",
       "      <th>std</th>\n",
       "      <td>2.0</td>\n",
       "      <td>0.0</td>\n",
       "      <td>0.0</td>\n",
       "      <td>1.0</td>\n",
       "      <td>0.0</td>\n",
       "      <td>10.0</td>\n",
       "      <td>33.0</td>\n",
       "      <td>0.0</td>\n",
       "      <td>0.0</td>\n",
       "      <td>0.0</td>\n",
       "      <td>1.0</td>\n",
       "      <td>1.0</td>\n",
       "    </tr>\n",
       "    <tr>\n",
       "      <th>min</th>\n",
       "      <td>5.0</td>\n",
       "      <td>0.0</td>\n",
       "      <td>0.0</td>\n",
       "      <td>1.0</td>\n",
       "      <td>0.0</td>\n",
       "      <td>1.0</td>\n",
       "      <td>6.0</td>\n",
       "      <td>1.0</td>\n",
       "      <td>3.0</td>\n",
       "      <td>0.0</td>\n",
       "      <td>8.0</td>\n",
       "      <td>3.0</td>\n",
       "    </tr>\n",
       "    <tr>\n",
       "      <th>25%</th>\n",
       "      <td>7.0</td>\n",
       "      <td>0.0</td>\n",
       "      <td>0.0</td>\n",
       "      <td>2.0</td>\n",
       "      <td>0.0</td>\n",
       "      <td>7.0</td>\n",
       "      <td>22.0</td>\n",
       "      <td>1.0</td>\n",
       "      <td>3.0</td>\n",
       "      <td>1.0</td>\n",
       "      <td>10.0</td>\n",
       "      <td>5.0</td>\n",
       "    </tr>\n",
       "    <tr>\n",
       "      <th>50%</th>\n",
       "      <td>8.0</td>\n",
       "      <td>1.0</td>\n",
       "      <td>0.0</td>\n",
       "      <td>2.0</td>\n",
       "      <td>0.0</td>\n",
       "      <td>14.0</td>\n",
       "      <td>38.0</td>\n",
       "      <td>1.0</td>\n",
       "      <td>3.0</td>\n",
       "      <td>1.0</td>\n",
       "      <td>10.0</td>\n",
       "      <td>6.0</td>\n",
       "    </tr>\n",
       "    <tr>\n",
       "      <th>75%</th>\n",
       "      <td>9.0</td>\n",
       "      <td>1.0</td>\n",
       "      <td>0.0</td>\n",
       "      <td>3.0</td>\n",
       "      <td>0.0</td>\n",
       "      <td>21.0</td>\n",
       "      <td>62.0</td>\n",
       "      <td>1.0</td>\n",
       "      <td>3.0</td>\n",
       "      <td>1.0</td>\n",
       "      <td>11.0</td>\n",
       "      <td>6.0</td>\n",
       "    </tr>\n",
       "    <tr>\n",
       "      <th>max</th>\n",
       "      <td>16.0</td>\n",
       "      <td>2.0</td>\n",
       "      <td>1.0</td>\n",
       "      <td>16.0</td>\n",
       "      <td>1.0</td>\n",
       "      <td>72.0</td>\n",
       "      <td>289.0</td>\n",
       "      <td>1.0</td>\n",
       "      <td>4.0</td>\n",
       "      <td>2.0</td>\n",
       "      <td>15.0</td>\n",
       "      <td>8.0</td>\n",
       "    </tr>\n",
       "  </tbody>\n",
       "</table>\n",
       "</div>"
      ],
      "text/plain": [
       "       fixed acidity  volatile acidity  citric acid  residual sugar  \\\n",
       "count         1599.0            1599.0       1599.0          1599.0   \n",
       "mean             8.0               1.0          0.0             3.0   \n",
       "std              2.0               0.0          0.0             1.0   \n",
       "min              5.0               0.0          0.0             1.0   \n",
       "25%              7.0               0.0          0.0             2.0   \n",
       "50%              8.0               1.0          0.0             2.0   \n",
       "75%              9.0               1.0          0.0             3.0   \n",
       "max             16.0               2.0          1.0            16.0   \n",
       "\n",
       "       chlorides  free sulfur dioxide  total sulfur dioxide  density      pH  \\\n",
       "count     1599.0               1599.0                1599.0   1599.0  1599.0   \n",
       "mean         0.0                 16.0                  46.0      1.0     3.0   \n",
       "std          0.0                 10.0                  33.0      0.0     0.0   \n",
       "min          0.0                  1.0                   6.0      1.0     3.0   \n",
       "25%          0.0                  7.0                  22.0      1.0     3.0   \n",
       "50%          0.0                 14.0                  38.0      1.0     3.0   \n",
       "75%          0.0                 21.0                  62.0      1.0     3.0   \n",
       "max          1.0                 72.0                 289.0      1.0     4.0   \n",
       "\n",
       "       sulphates  alcohol  quality  \n",
       "count     1599.0   1599.0   1599.0  \n",
       "mean         1.0     10.0      6.0  \n",
       "std          0.0      1.0      1.0  \n",
       "min          0.0      8.0      3.0  \n",
       "25%          1.0     10.0      5.0  \n",
       "50%          1.0     10.0      6.0  \n",
       "75%          1.0     11.0      6.0  \n",
       "max          2.0     15.0      8.0  "
      ]
     },
     "execution_count": 138,
     "metadata": {},
     "output_type": "execute_result"
    }
   ],
   "source": [
    "np.round(wine_db.describe())"
   ]
  },
  {
   "cell_type": "markdown",
   "metadata": {},
   "source": [
    "We can see that there 1599 entries of wine with differing characteristics along with their quality score. The wine quality scores ranges from 3 to 8.\n",
    "\n",
    "Using the summary table above, let's look at each variable in the data to see if we have any outstanding outliers that we can possibly remove from the data. We can do this by using a box plot or using the Tukey method, most commonly known for the IQR method, wherein we look at those outside of the bounds within 1.5 of the IQR."
   ]
  },
  {
   "cell_type": "code",
   "execution_count": 5,
   "metadata": {
    "scrolled": false
   },
   "outputs": [
    {
     "data": {
      "text/plain": [
       "<matplotlib.axes._subplots.AxesSubplot at 0x1b60ea85a20>"
      ]
     },
     "execution_count": 5,
     "metadata": {},
     "output_type": "execute_result"
    },
    {
     "data": {
      "image/png": "[encoded data removed]",
      "text/plain": [
       "<Figure size 1296x648 with 1 Axes>"
      ]
     },
     "metadata": {
      "needs_background": "light"
     },
     "output_type": "display_data"
    }
   ],
   "source": [
    "fig = plt.figure(figsize=(18,9))\n",
    "wine_db.boxplot()"
   ]
  },
  {
   "cell_type": "code",
   "execution_count": 137,
   "metadata": {
    "scrolled": true
   },
   "outputs": [
    {
     "name": "stdout",
     "output_type": "stream",
     "text": [
      "('fixed acidity', 4.0, 12.0)\n",
      "('volatile acidity', 0.0, 1.0)\n",
      "('citric acid', -0.0, 1.0)\n",
      "('residual sugar', 1.0, 4.0)\n",
      "('chlorides', 0.0, 0.0)\n",
      "('free sulfur dioxide', -14.0, 42.0)\n",
      "('total sulfur dioxide', -38.0, 122.0)\n",
      "('density', 1.0, 1.0)\n",
      "('pH', 3.0, 4.0)\n",
      "('sulphates', 0.0, 1.0)\n",
      "('alcohol', 7.0, 14.0)\n",
      "('quality', 4.0, 8.0)\n"
     ]
    }
   ],
   "source": [
    "# Tukey rule for outlier detection\n",
    "def detect_outlier(df_in, col_name):\n",
    "    q1 = df_in[col_name].quantile(0.25)\n",
    "    q3 = df_in[col_name].quantile(0.75)\n",
    "    iqr = q3-q1 \n",
    "    lb  = np.round(q1-(1.5*iqr))\n",
    "    ub = np.round(q3+(1.5*iqr))\n",
    "    return col_name, lb, ub\n",
    "\n",
    "# let's apply it for each of the column features of our data\n",
    "for col in wine_db.columns.values:\n",
    "    print(detect_outlier(wine_db, col))"
   ]
  },
  {
   "cell_type": "markdown",
   "metadata": {},
   "source": [
    "We can see that there are some outliers from each of the input feature in the dataset; namely the free and total sulfur dioxide."
   ]
  },
  {
   "cell_type": "code",
   "execution_count": 139,
   "metadata": {},
   "outputs": [
    {
     "data": {
      "image/png": "[encoded data removed]",
      "text/plain": [
       "<Figure size 864x576 with 2 Axes>"
      ]
     },
     "metadata": {
      "needs_background": "light"
     },
     "output_type": "display_data"
    }
   ],
   "source": [
    "import matplotlib.pyplot as plt\n",
    "import seaborn as sns\n",
    "\n",
    "plt.subplots(figsize = (12,8))\n",
    "sns.heatmap(wine_db.corr(), \n",
    "            annot=True,  \n",
    "            cmap = 'RdBu_r',\n",
    "            linewidths=0.1, \n",
    "            linecolor='white',\n",
    "            vmax = 1)\n",
    "plt.title(\"Correlations Among Features and Response Variables \", y = 1.03,fontsize = 20)\n",
    "plt.show()"
   ]
  },
  {
   "cell_type": "code",
   "execution_count": 8,
   "metadata": {
    "scrolled": true
   },
   "outputs": [
    {
     "data": {
      "text/plain": [
       "array([[<matplotlib.axes._subplots.AxesSubplot object at 0x000001B60F20B940>,\n",
       "        <matplotlib.axes._subplots.AxesSubplot object at 0x000001B60F517160>,\n",
       "        <matplotlib.axes._subplots.AxesSubplot object at 0x000001B60EF4B6A0>],\n",
       "       [<matplotlib.axes._subplots.AxesSubplot object at 0x000001B60EF73BE0>,\n",
       "        <matplotlib.axes._subplots.AxesSubplot object at 0x000001B60EFA2198>,\n",
       "        <matplotlib.axes._subplots.AxesSubplot object at 0x000001B60EFCB710>],\n",
       "       [<matplotlib.axes._subplots.AxesSubplot object at 0x000001B60EFF3C88>,\n",
       "        <matplotlib.axes._subplots.AxesSubplot object at 0x000001B60F023278>,\n",
       "        <matplotlib.axes._subplots.AxesSubplot object at 0x000001B60F0232B0>],\n",
       "       [<matplotlib.axes._subplots.AxesSubplot object at 0x000001B60F075D30>,\n",
       "        <matplotlib.axes._subplots.AxesSubplot object at 0x000001B60F0A62E8>,\n",
       "        <matplotlib.axes._subplots.AxesSubplot object at 0x000001B60F0CD860>]],\n",
       "      dtype=object)"
      ]
     },
     "execution_count": 8,
     "metadata": {},
     "output_type": "execute_result"
    },
    {
     "data": {
      "image/png": "[encoded data removed]",
      "text/plain": [
       "<Figure size 432x288 with 12 Axes>"
      ]
     },
     "metadata": {
      "needs_background": "light"
     },
     "output_type": "display_data"
    }
   ],
   "source": [
    "wine_db.hist()"
   ]
  },
  {
   "cell_type": "markdown",
   "metadata": {},
   "source": [
    "Based on the histograms of the input variables, the data can be scaled in order to optimize our results."
   ]
  },
  {
   "cell_type": "code",
   "execution_count": 9,
   "metadata": {},
   "outputs": [
    {
     "data": {
      "text/plain": [
       "<matplotlib.axes._subplots.AxesSubplot at 0x1b60f5be710>"
      ]
     },
     "execution_count": 9,
     "metadata": {},
     "output_type": "execute_result"
    },
    {
     "data": {
      "image/png": "[encoded data removed]",
      "text/plain": [
       "<Figure size 1584x360 with 4 Axes>"
      ]
     },
     "metadata": {
      "needs_background": "light"
     },
     "output_type": "display_data"
    }
   ],
   "source": [
    "fig, axes = plt.subplots(1, 4, figsize = (22,5))\n",
    "sns.barplot(x = 'quality', y = 'fixed acidity', data = wine_db, orient = 'v', ax=axes[0])\n",
    "sns.barplot(x = 'quality', y = 'volatile acidity', data = wine_db, orient = 'v', ax=axes[1])\n",
    "sns.barplot(x = 'quality', y = 'citric acid', data = wine_db, orient = 'v', ax=axes[2])\n",
    "sns.barplot(x = 'quality', y = 'residual sugar', data = wine_db, orient = 'v', ax=axes[3])"
   ]
  },
  {
   "cell_type": "markdown",
   "metadata": {},
   "source": [
    "We can see that as the quality increases the volatile acidity decreases whereas the citric acid increases along with the quality. According to the [Wine Maker](https://winemakermag.com/article/676-the-perils-of-volatile-acidity), volatile acidity is the process of when wine turns to vinegar; thus it makes sense that it goes down with increasing quality of wine. [Citric acid](https://wineserver.ucdavis.edu/industry-info/enology/methods-and-techniques/common-chemical-reagents/citric-acid) on the other hand tends to complement flavors of wine and thus it makes sense to have higher concentration of it in higher quality wines."
   ]
  },
  {
   "cell_type": "code",
   "execution_count": 10,
   "metadata": {
    "scrolled": true
   },
   "outputs": [
    {
     "data": {
      "text/plain": [
       "<matplotlib.axes._subplots.AxesSubplot at 0x1b60f75f208>"
      ]
     },
     "execution_count": 10,
     "metadata": {},
     "output_type": "execute_result"
    },
    {
     "data": {
      "image/png": "[encoded data removed]",
      "text/plain": [
       "<Figure size 1584x360 with 4 Axes>"
      ]
     },
     "metadata": {
      "needs_background": "light"
     },
     "output_type": "display_data"
    }
   ],
   "source": [
    "fig, axes = plt.subplots(1, 4, figsize = (22,5))\n",
    "sns.barplot(x = 'quality', y = 'chlorides', data = wine_db, orient = 'v', ax=axes[0])\n",
    "sns.barplot(x = 'quality', y = 'free sulfur dioxide', data = wine_db, orient = 'v', ax=axes[1])\n",
    "sns.barplot(x = 'quality', y = 'total sulfur dioxide', data = wine_db, orient = 'v', ax=axes[2])\n",
    "sns.barplot(x = 'quality', y = 'density', data = wine_db, orient = 'v', ax=axes[3])"
   ]
  },
  {
   "cell_type": "markdown",
   "metadata": {},
   "source": [
    "Similarly, the level of [chlorides](https://www.aromadictionary.com/articles/salt_article.html),which contributes to the saltiness of wine, goes down as the quality rises since a salty wine is not good."
   ]
  },
  {
   "cell_type": "code",
   "execution_count": 11,
   "metadata": {
    "scrolled": true
   },
   "outputs": [
    {
     "data": {
      "text/plain": [
       "<matplotlib.axes._subplots.AxesSubplot at 0x1b60f8edf60>"
      ]
     },
     "execution_count": 11,
     "metadata": {},
     "output_type": "execute_result"
    },
    {
     "data": {
      "image/png": "[encoded data removed]",
      "text/plain": [
       "<Figure size 1584x360 with 3 Axes>"
      ]
     },
     "metadata": {
      "needs_background": "light"
     },
     "output_type": "display_data"
    }
   ],
   "source": [
    "fig, axes = plt.subplots(1, 3, figsize = (22,5))\n",
    "sns.barplot(x = 'quality', y = 'pH', data = wine_db, orient = 'v', ax=axes[0])\n",
    "sns.barplot(x = 'quality', y = 'sulphates', data = wine_db, orient = 'v', ax=axes[1])\n",
    "sns.barplot(x = 'quality', y = 'alcohol', data = wine_db, orient = 'v', ax=axes[2])"
   ]
  },
  {
   "cell_type": "markdown",
   "metadata": {},
   "source": [
    "The sulphates and alcohol level also increases with the quality of the wine."
   ]
  },
  {
   "cell_type": "markdown",
   "metadata": {},
   "source": [
    "### Data cleanup ###\n",
    "\n",
    "From the steps above, we can see that there are some outliers in the data. We should try and see the sample size reduction if these outliers were taken out. Additionally, all of our data is in a numerical format and it will be good practice to standardize and scale all of our input features in order to help normalise our data.\n",
    "\n",
    "Additionally, the wine quality scores are all categorical and we can apply either a $k$NN classifier or a logistic regression by converting the scores in a 0/1 scale wherein 1 is good wine and 0 is bad wine."
   ]
  },
  {
   "cell_type": "code",
   "execution_count": 12,
   "metadata": {},
   "outputs": [],
   "source": [
    "# Let's remove the outliers from each input features using Tukey method and see the histograms of each variables after\n",
    "# we also need to look at our sample size after this has taken place\n",
    "\n",
    "# redefine the function to detect outlierss to remove the outliers for each variables\n",
    "# Tukey rule for outlier detection\n",
    "def detect_outlier(df_in, col_name):\n",
    "    q1 = df_in[col_name].quantile(0.25)\n",
    "    q3 = df_in[col_name].quantile(0.75)\n",
    "    iqr = q3-q1 \n",
    "    lb  = q1-(1.5*iqr)\n",
    "    ub = q3+(1.5*iqr)\n",
    "    new_db =  df_in.loc[(df_in[col_name] > lb) & (df_in[col_name] < ub)]\n",
    "    return new_db\n",
    "\n",
    "# let's apply it for each of the column features of our data\n",
    "new_db = wine_db\n",
    "for col in new_db.columns.values[0:10]:\n",
    "    new_db=detect_outlier(new_db, col)\n"
   ]
  },
  {
   "cell_type": "code",
   "execution_count": 13,
   "metadata": {
    "scrolled": true
   },
   "outputs": [
    {
     "data": {
      "text/html": [
       "<div>\n",
       "<style scoped>\n",
       "    .dataframe tbody tr th:only-of-type {\n",
       "        vertical-align: middle;\n",
       "    }\n",
       "\n",
       "    .dataframe tbody tr th {\n",
       "        vertical-align: top;\n",
       "    }\n",
       "\n",
       "    .dataframe thead th {\n",
       "        text-align: right;\n",
       "    }\n",
       "</style>\n",
       "<table border=\"1\" class=\"dataframe\">\n",
       "  <thead>\n",
       "    <tr style=\"text-align: right;\">\n",
       "      <th></th>\n",
       "      <th>fixed acidity</th>\n",
       "      <th>volatile acidity</th>\n",
       "      <th>citric acid</th>\n",
       "      <th>residual sugar</th>\n",
       "      <th>chlorides</th>\n",
       "      <th>free sulfur dioxide</th>\n",
       "      <th>total sulfur dioxide</th>\n",
       "      <th>density</th>\n",
       "      <th>pH</th>\n",
       "      <th>sulphates</th>\n",
       "      <th>alcohol</th>\n",
       "      <th>quality</th>\n",
       "    </tr>\n",
       "  </thead>\n",
       "  <tbody>\n",
       "    <tr>\n",
       "      <th>count</th>\n",
       "      <td>1140.000000</td>\n",
       "      <td>1140.000000</td>\n",
       "      <td>1140.000000</td>\n",
       "      <td>1140.000000</td>\n",
       "      <td>1140.000000</td>\n",
       "      <td>1140.000000</td>\n",
       "      <td>1140.000000</td>\n",
       "      <td>1140.000000</td>\n",
       "      <td>1140.000000</td>\n",
       "      <td>1140.000000</td>\n",
       "      <td>1140.000000</td>\n",
       "      <td>1140.000000</td>\n",
       "    </tr>\n",
       "    <tr>\n",
       "      <th>mean</th>\n",
       "      <td>8.147368</td>\n",
       "      <td>0.521693</td>\n",
       "      <td>0.246605</td>\n",
       "      <td>2.181228</td>\n",
       "      <td>0.078226</td>\n",
       "      <td>14.779825</td>\n",
       "      <td>40.882456</td>\n",
       "      <td>0.996559</td>\n",
       "      <td>3.325316</td>\n",
       "      <td>0.629061</td>\n",
       "      <td>10.367266</td>\n",
       "      <td>5.641228</td>\n",
       "    </tr>\n",
       "    <tr>\n",
       "      <th>std</th>\n",
       "      <td>1.441996</td>\n",
       "      <td>0.164521</td>\n",
       "      <td>0.180434</td>\n",
       "      <td>0.438829</td>\n",
       "      <td>0.013762</td>\n",
       "      <td>8.573073</td>\n",
       "      <td>24.594164</td>\n",
       "      <td>0.001564</td>\n",
       "      <td>0.129900</td>\n",
       "      <td>0.112597</td>\n",
       "      <td>0.974436</td>\n",
       "      <td>0.760217</td>\n",
       "    </tr>\n",
       "    <tr>\n",
       "      <th>min</th>\n",
       "      <td>5.100000</td>\n",
       "      <td>0.120000</td>\n",
       "      <td>0.000000</td>\n",
       "      <td>1.200000</td>\n",
       "      <td>0.042000</td>\n",
       "      <td>1.000000</td>\n",
       "      <td>6.000000</td>\n",
       "      <td>0.992520</td>\n",
       "      <td>2.980000</td>\n",
       "      <td>0.330000</td>\n",
       "      <td>8.700000</td>\n",
       "      <td>3.000000</td>\n",
       "    </tr>\n",
       "    <tr>\n",
       "      <th>25%</th>\n",
       "      <td>7.100000</td>\n",
       "      <td>0.390000</td>\n",
       "      <td>0.080000</td>\n",
       "      <td>1.900000</td>\n",
       "      <td>0.069000</td>\n",
       "      <td>8.000000</td>\n",
       "      <td>22.000000</td>\n",
       "      <td>0.995500</td>\n",
       "      <td>3.230000</td>\n",
       "      <td>0.550000</td>\n",
       "      <td>9.500000</td>\n",
       "      <td>5.000000</td>\n",
       "    </tr>\n",
       "    <tr>\n",
       "      <th>50%</th>\n",
       "      <td>7.800000</td>\n",
       "      <td>0.520000</td>\n",
       "      <td>0.240000</td>\n",
       "      <td>2.100000</td>\n",
       "      <td>0.078000</td>\n",
       "      <td>13.000000</td>\n",
       "      <td>35.000000</td>\n",
       "      <td>0.996600</td>\n",
       "      <td>3.330000</td>\n",
       "      <td>0.610000</td>\n",
       "      <td>10.100000</td>\n",
       "      <td>6.000000</td>\n",
       "    </tr>\n",
       "    <tr>\n",
       "      <th>75%</th>\n",
       "      <td>9.000000</td>\n",
       "      <td>0.630000</td>\n",
       "      <td>0.390000</td>\n",
       "      <td>2.500000</td>\n",
       "      <td>0.087000</td>\n",
       "      <td>20.000000</td>\n",
       "      <td>54.000000</td>\n",
       "      <td>0.997485</td>\n",
       "      <td>3.400000</td>\n",
       "      <td>0.700000</td>\n",
       "      <td>11.000000</td>\n",
       "      <td>6.000000</td>\n",
       "    </tr>\n",
       "    <tr>\n",
       "      <th>max</th>\n",
       "      <td>12.300000</td>\n",
       "      <td>1.005000</td>\n",
       "      <td>0.730000</td>\n",
       "      <td>3.600000</td>\n",
       "      <td>0.116000</td>\n",
       "      <td>40.000000</td>\n",
       "      <td>113.000000</td>\n",
       "      <td>1.000400</td>\n",
       "      <td>3.680000</td>\n",
       "      <td>0.940000</td>\n",
       "      <td>14.000000</td>\n",
       "      <td>8.000000</td>\n",
       "    </tr>\n",
       "  </tbody>\n",
       "</table>\n",
       "</div>"
      ],
      "text/plain": [
       "       fixed acidity  volatile acidity  citric acid  residual sugar  \\\n",
       "count    1140.000000       1140.000000  1140.000000     1140.000000   \n",
       "mean        8.147368          0.521693     0.246605        2.181228   \n",
       "std         1.441996          0.164521     0.180434        0.438829   \n",
       "min         5.100000          0.120000     0.000000        1.200000   \n",
       "25%         7.100000          0.390000     0.080000        1.900000   \n",
       "50%         7.800000          0.520000     0.240000        2.100000   \n",
       "75%         9.000000          0.630000     0.390000        2.500000   \n",
       "max        12.300000          1.005000     0.730000        3.600000   \n",
       "\n",
       "         chlorides  free sulfur dioxide  total sulfur dioxide      density  \\\n",
       "count  1140.000000          1140.000000           1140.000000  1140.000000   \n",
       "mean      0.078226            14.779825             40.882456     0.996559   \n",
       "std       0.013762             8.573073             24.594164     0.001564   \n",
       "min       0.042000             1.000000              6.000000     0.992520   \n",
       "25%       0.069000             8.000000             22.000000     0.995500   \n",
       "50%       0.078000            13.000000             35.000000     0.996600   \n",
       "75%       0.087000            20.000000             54.000000     0.997485   \n",
       "max       0.116000            40.000000            113.000000     1.000400   \n",
       "\n",
       "                pH    sulphates      alcohol      quality  \n",
       "count  1140.000000  1140.000000  1140.000000  1140.000000  \n",
       "mean      3.325316     0.629061    10.367266     5.641228  \n",
       "std       0.129900     0.112597     0.974436     0.760217  \n",
       "min       2.980000     0.330000     8.700000     3.000000  \n",
       "25%       3.230000     0.550000     9.500000     5.000000  \n",
       "50%       3.330000     0.610000    10.100000     6.000000  \n",
       "75%       3.400000     0.700000    11.000000     6.000000  \n",
       "max       3.680000     0.940000    14.000000     8.000000  "
      ]
     },
     "execution_count": 13,
     "metadata": {},
     "output_type": "execute_result"
    }
   ],
   "source": [
    "new_db.describe()"
   ]
  },
  {
   "cell_type": "code",
   "execution_count": 14,
   "metadata": {
    "scrolled": true
   },
   "outputs": [
    {
     "data": {
      "text/plain": [
       "-0.2870544090056285"
      ]
     },
     "execution_count": 14,
     "metadata": {},
     "output_type": "execute_result"
    }
   ],
   "source": [
    "(1140/1599)-1 # removing the outliers from each input features may not be a good solution since it took about 29% of the data"
   ]
  },
  {
   "cell_type": "markdown",
   "metadata": {},
   "source": [
    "Removing the outlier from each infute features reduces the overall sample by about 29%. This reduction amount may be too extreme considering that we actually don't have a big set of data. We can look into each variable distribution in the histograms and pinpoint the percentile at which we can take out the outliers. For this analysis I will focus on the outcomes of the classification method on this database instead, and test whether it yielded better precision metrics in classifying.\n",
    "\n",
    "From this point on <code>new_db</code> will be regarded as ***Dataset 2*** and our original <code>wine_db</code> dataset will be ***Dataset 1***."
   ]
  },
  {
   "cell_type": "code",
   "execution_count": 150,
   "metadata": {},
   "outputs": [],
   "source": [
    "wine_db_copy = wine_db"
   ]
  },
  {
   "cell_type": "markdown",
   "metadata": {},
   "source": [
    "\"Good\" quality wine will be those with quality scores with at least a 6.5 and anything lower will be considered \"bad\" quality wine."
   ]
  },
  {
   "cell_type": "code",
   "execution_count": 158,
   "metadata": {},
   "outputs": [
    {
     "name": "stdout",
     "output_type": "stream",
     "text": [
      "Bad wine count: 1382\n",
      "Good wine count: 217\n"
     ]
    }
   ],
   "source": [
    " # checking to see number of bad and good wine\n",
    "print(\"Bad wine count:\", wine_db_copy[(wine_db_copy[\"quality\"]>=3) & (wine_db_copy[\"quality\"]<6.5)].count()['quality'])\n",
    "print(\"Good wine count:\", wine_db_copy[(wine_db_copy[\"quality\"]>=6.5)].count()['quality'])"
   ]
  },
  {
   "cell_type": "code",
   "execution_count": 159,
   "metadata": {},
   "outputs": [],
   "source": [
    "# Making binary classificaion for the response variable\n",
    "# Dividing wine as good and bad -- 6.5 and above is good and all below is bad\n",
    "bins = (2, 6.5, 8)\n",
    "group_names = ['bad', 'good']\n",
    "wine_db_copy['quality'] = pd.cut(wine_db_copy['quality'], bins = bins, labels = group_names)"
   ]
  },
  {
   "cell_type": "code",
   "execution_count": 160,
   "metadata": {
    "scrolled": true
   },
   "outputs": [],
   "source": [
    "# turn the labels into 1 or 0 values using labelencoder\n",
    "LE= LabelEncoder()"
   ]
  },
  {
   "cell_type": "code",
   "execution_count": 162,
   "metadata": {},
   "outputs": [],
   "source": [
    "wine_db_copy['quality'] = LE.fit_transform(wine_db_copy['quality'])"
   ]
  },
  {
   "cell_type": "code",
   "execution_count": 163,
   "metadata": {
    "scrolled": true
   },
   "outputs": [
    {
     "data": {
      "text/plain": [
       "0    1382\n",
       "1     217\n",
       "Name: quality, dtype: int64"
      ]
     },
     "execution_count": 163,
     "metadata": {},
     "output_type": "execute_result"
    }
   ],
   "source": [
    "wine_db_copy['quality'].value_counts()"
   ]
  },
  {
   "cell_type": "code",
   "execution_count": 209,
   "metadata": {},
   "outputs": [
    {
     "data": {
      "text/plain": [
       "0.8642901813633521"
      ]
     },
     "execution_count": 209,
     "metadata": {},
     "output_type": "execute_result"
    }
   ],
   "source": [
    "1382/1599"
   ]
  },
  {
   "cell_type": "markdown",
   "metadata": {},
   "source": [
    "Let's also change the label for ***Dataset 2*** to get it ready for classification."
   ]
  },
  {
   "cell_type": "code",
   "execution_count": 54,
   "metadata": {},
   "outputs": [
    {
     "data": {
      "text/plain": [
       "0    998\n",
       "1    142\n",
       "Name: quality, dtype: int64"
      ]
     },
     "execution_count": 54,
     "metadata": {},
     "output_type": "execute_result"
    }
   ],
   "source": [
    "new_db_copy = new_db\n",
    "new_db_copy['quality'] = pd.cut(new_db_copy['quality'], bins = bins, labels = group_names)\n",
    "new_db_copy['quality'] = LE.fit_transform(new_db_copy['quality'])\n",
    "new_db_copy['quality'].value_counts()"
   ]
  },
  {
   "cell_type": "markdown",
   "metadata": {},
   "source": [
    "### Splitting between Training and Testing ###"
   ]
  },
  {
   "cell_type": "markdown",
   "metadata": {},
   "source": [
    "Splitting for our ***Dataset 1***"
   ]
  },
  {
   "cell_type": "code",
   "execution_count": 241,
   "metadata": {},
   "outputs": [],
   "source": [
    "#Now seperate the dataset as response variable and feature variabes\n",
    "X = wine_db_copy.drop('quality', axis = 1)\n",
    "y = wine_db_copy['quality']"
   ]
  },
  {
   "cell_type": "code",
   "execution_count": 242,
   "metadata": {},
   "outputs": [],
   "source": [
    "X1_train, X1_test, y1_train, y1_test = train_test_split(X, y, test_size=0.2, random_state=123, stratify=y)"
   ]
  },
  {
   "cell_type": "code",
   "execution_count": 243,
   "metadata": {},
   "outputs": [],
   "source": [
    "from sklearn.preprocessing import StandardScaler\n",
    "sc = StandardScaler() # scaling hte variables\n",
    "X1_train = sc.fit_transform(X1_train)\n",
    "X1_test = sc.fit_transform(X1_test)"
   ]
  },
  {
   "cell_type": "markdown",
   "metadata": {},
   "source": [
    "Splitting for our ***Dataset 2***"
   ]
  },
  {
   "cell_type": "code",
   "execution_count": 89,
   "metadata": {},
   "outputs": [],
   "source": [
    "X_copy = new_db_copy.drop('quality', axis = 1)\n",
    "y_copy = new_db_copy['quality']"
   ]
  },
  {
   "cell_type": "code",
   "execution_count": 98,
   "metadata": {},
   "outputs": [],
   "source": [
    "X2_train, X2_test, y2_train, y2_test = train_test_split(X_copy, y_copy, test_size=0.2, random_state=123, stratify=y_copy)"
   ]
  },
  {
   "cell_type": "markdown",
   "metadata": {},
   "source": [
    "### Classifying the Data ###"
   ]
  },
  {
   "cell_type": "markdown",
   "metadata": {},
   "source": [
    "**KNN Classifier** for ***Dataset 1*** (including possible outliers):"
   ]
  },
  {
   "cell_type": "code",
   "execution_count": 107,
   "metadata": {},
   "outputs": [
    {
     "data": {
      "text/plain": [
       "KNeighborsClassifier(algorithm='auto', leaf_size=30, metric='minkowski',\n",
       "           metric_params=None, n_jobs=None, n_neighbors=3, p=2,\n",
       "           weights='uniform')"
      ]
     },
     "execution_count": 107,
     "metadata": {},
     "output_type": "execute_result"
    }
   ],
   "source": [
    "from sklearn.neighbors import KNeighborsClassifier\n",
    "\n",
    "KNN = KNeighborsClassifier(n_neighbors=3)\n",
    "\n",
    "KNN.fit(X1_train, y1_train)"
   ]
  },
  {
   "cell_type": "code",
   "execution_count": 108,
   "metadata": {
    "scrolled": false
   },
   "outputs": [
    {
     "data": {
      "text/plain": [
       "0.884375"
      ]
     },
     "execution_count": 108,
     "metadata": {},
     "output_type": "execute_result"
    }
   ],
   "source": [
    "KNN.score(X1_test, y1_test) "
   ]
  },
  {
   "cell_type": "code",
   "execution_count": 110,
   "metadata": {
    "scrolled": true
   },
   "outputs": [
    {
     "name": "stdout",
     "output_type": "stream",
     "text": [
      "              precision    recall  f1-score   support\n",
      "\n",
      "           0       0.92      0.95      0.93       277\n",
      "           1       0.59      0.47      0.52        43\n",
      "\n",
      "   micro avg       0.88      0.88      0.88       320\n",
      "   macro avg       0.75      0.71      0.73       320\n",
      "weighted avg       0.88      0.88      0.88       320\n",
      "\n",
      "[[263  14]\n",
      " [ 23  20]]\n",
      "0.884375\n"
     ]
    }
   ],
   "source": [
    "pred_knn = KNN.predict(X1_test)\n",
    "print(classification_report(y1_test, pred_knn))\n",
    "print(confusion_matrix(y1_test, pred_knn))\n",
    "print(accuracy_score(y1_test, pred_knn))"
   ]
  },
  {
   "cell_type": "markdown",
   "metadata": {},
   "source": [
    "The accuracy for ***Dataset 1*** is 88%, which is pretty good. Another good metric to consider is the distance between the sensitivity and specificity rate. Ideally, a good model will have high specificity and sensitivity so the goal is to have the two values as high and as close to each other as possible. In this case, there is about 48% difference between the two.\n",
    "\n",
    "The previous metric is also related to the F1 score which is a rather better metric in our case due to the uneven class distribution. We can see that the F1 score for this model is at least 73% for the macro average and 88% for both the micro average and the weighted average."
   ]
  },
  {
   "cell_type": "code",
   "execution_count": 173,
   "metadata": {},
   "outputs": [
    {
     "data": {
      "text/plain": [
       "0.48"
      ]
     },
     "execution_count": 173,
     "metadata": {},
     "output_type": "execute_result"
    }
   ],
   "source": [
    ".95-.47"
   ]
  },
  {
   "cell_type": "code",
   "execution_count": 171,
   "metadata": {},
   "outputs": [
    {
     "data": {
      "text/plain": [
       "0.9494584837545126"
      ]
     },
     "execution_count": 171,
     "metadata": {},
     "output_type": "execute_result"
    }
   ],
   "source": [
    "1-(14/(263+14))"
   ]
  },
  {
   "cell_type": "code",
   "execution_count": 172,
   "metadata": {},
   "outputs": [
    {
     "data": {
      "text/plain": [
       "0.4651162790697675"
      ]
     },
     "execution_count": 172,
     "metadata": {},
     "output_type": "execute_result"
    }
   ],
   "source": [
    "1-(23/(23+20))"
   ]
  },
  {
   "cell_type": "markdown",
   "metadata": {},
   "source": [
    "**KNN Classifier** for ***Dataset 2*** (excluding possible outliers):"
   ]
  },
  {
   "cell_type": "code",
   "execution_count": 102,
   "metadata": {
    "scrolled": false
   },
   "outputs": [
    {
     "name": "stdout",
     "output_type": "stream",
     "text": [
      "0.8903508771929824\n",
      "              precision    recall  f1-score   support\n",
      "\n",
      "           0       0.91      0.96      0.94       200\n",
      "           1       0.59      0.36      0.44        28\n",
      "\n",
      "   micro avg       0.89      0.89      0.89       228\n",
      "   macro avg       0.75      0.66      0.69       228\n",
      "weighted avg       0.87      0.89      0.88       228\n",
      "\n",
      "[[193   7]\n",
      " [ 18  10]]\n",
      "0.8903508771929824\n"
     ]
    }
   ],
   "source": [
    "KNN2 = KNeighborsClassifier(n_neighbors=3)\n",
    "KNN2.fit(X2_train, y2_train)\n",
    "print(KNN2.score(X2_test, y2_test))\n",
    "pred_knn2 = KNN2.predict(X2_test)\n",
    "print(classification_report(y2_test, pred_knn2))\n",
    "print(confusion_matrix(y2_test, pred_knn2))\n",
    "print(accuracy_score(y2_test, pred_knn2))"
   ]
  },
  {
   "cell_type": "markdown",
   "metadata": {},
   "source": [
    "The accuracy rate for ***Dataset 2*** using the KNN classifier is 89%, which is higher by about 1%. Additionally, the difference between its sensitivity rate and specificity rate is about 60%, which is a lot higher than the difference of the specificity and sensitivity rate of ***Dataset 1***.\n",
    "\n",
    "The F1 score of this model is at 69% for the macro average, which is lower than the macro average of our first model for ***Dataset 1***."
   ]
  },
  {
   "cell_type": "code",
   "execution_count": 174,
   "metadata": {},
   "outputs": [
    {
     "data": {
      "text/plain": [
       "0.6"
      ]
     },
     "execution_count": 174,
     "metadata": {},
     "output_type": "execute_result"
    }
   ],
   "source": [
    ".96-.36"
   ]
  },
  {
   "cell_type": "markdown",
   "metadata": {},
   "source": [
    "**Logistic Regression** for ***Dataset 1*** (including possible outliers):"
   ]
  },
  {
   "cell_type": "code",
   "execution_count": 223,
   "metadata": {
    "scrolled": true
   },
   "outputs": [],
   "source": [
    "lr1 = LogisticRegression()\n",
    "lr1.fit(X1_train, y1_train)\n",
    "lr1_predict = lr1.predict(X1_test)"
   ]
  },
  {
   "cell_type": "code",
   "execution_count": 224,
   "metadata": {
    "scrolled": false
   },
   "outputs": [
    {
     "name": "stdout",
     "output_type": "stream",
     "text": [
      "0.884375\n",
      "              precision    recall  f1-score   support\n",
      "\n",
      "           0       0.91      0.96      0.94       277\n",
      "           1       0.62      0.37      0.46        43\n",
      "\n",
      "   micro avg       0.88      0.88      0.88       320\n",
      "   macro avg       0.76      0.67      0.70       320\n",
      "weighted avg       0.87      0.88      0.87       320\n",
      "\n",
      "[[267  10]\n",
      " [ 27  16]]\n",
      "0.884375\n"
     ]
    }
   ],
   "source": [
    "#print confusion matrix and accuracy score\n",
    "print(lr1.score(X1_test, y1_test))\n",
    "print(classification_report(y1_test, lr1_predict))\n",
    "print(confusion_matrix(y1_test, lr1_predict))\n",
    "print(accuracy_score(y1_test, lr1_predict))"
   ]
  },
  {
   "cell_type": "code",
   "execution_count": 176,
   "metadata": {},
   "outputs": [
    {
     "data": {
      "text/plain": [
       "0.59"
      ]
     },
     "execution_count": 176,
     "metadata": {},
     "output_type": "execute_result"
    }
   ],
   "source": [
    ".96-.37"
   ]
  },
  {
   "cell_type": "markdown",
   "metadata": {},
   "source": [
    "The accuracy rate for the Logistic Model for ***Dataset 1*** is also at 88%. The difference between their specificity and sensitivity rate is at 59% whereas the macro average of its F1 score is at 70%. Overall, it's not far from the very first model we created using the KNN classifier for ***Dataset 1***"
   ]
  },
  {
   "cell_type": "markdown",
   "metadata": {},
   "source": [
    "**Logistic Regression** for ***Dataset 2*** (excluding possible outliers):"
   ]
  },
  {
   "cell_type": "code",
   "execution_count": 115,
   "metadata": {
    "scrolled": true
   },
   "outputs": [
    {
     "name": "stdout",
     "output_type": "stream",
     "text": [
      "0.9035087719298246\n",
      "              precision    recall  f1-score   support\n",
      "\n",
      "           0       0.90      0.99      0.95       200\n",
      "           1       0.88      0.25      0.39        28\n",
      "\n",
      "   micro avg       0.90      0.90      0.90       228\n",
      "   macro avg       0.89      0.62      0.67       228\n",
      "weighted avg       0.90      0.90      0.88       228\n",
      "\n",
      "[[199   1]\n",
      " [ 21   7]]\n",
      "0.9035087719298246\n"
     ]
    },
    {
     "name": "stderr",
     "output_type": "stream",
     "text": [
      "C:\\Users\\eliza\\Anaconda3\\lib\\site-packages\\sklearn\\linear_model\\logistic.py:433: FutureWarning: Default solver will be changed to 'lbfgs' in 0.22. Specify a solver to silence this warning.\n",
      "  FutureWarning)\n"
     ]
    }
   ],
   "source": [
    "lr2 = LogisticRegression()\n",
    "lr2.fit(X2_train, y2_train)\n",
    "lr2_predict = lr2.predict(X2_test)\n",
    "\n",
    "print(lr2.score(X2_test, y2_test))\n",
    "print(classification_report(y2_test, lr2_predict))\n",
    "print(confusion_matrix(y2_test, lr2_predict))\n",
    "print(accuracy_score(y2_test, lr2_predict))"
   ]
  },
  {
   "cell_type": "code",
   "execution_count": 177,
   "metadata": {},
   "outputs": [
    {
     "data": {
      "text/plain": [
       "0.74"
      ]
     },
     "execution_count": 177,
     "metadata": {},
     "output_type": "execute_result"
    }
   ],
   "source": [
    ".99-.25"
   ]
  },
  {
   "cell_type": "markdown",
   "metadata": {},
   "source": [
    "So far, the logistic regression model for ***Dataset 2*** has the highest accuracy at 90%. However, the difference between its specificity and sensitivity rate is the lowest at 74%. It also has the lowest f1 score across all the models."
   ]
  },
  {
   "cell_type": "markdown",
   "metadata": {},
   "source": [
    "### Validating the Data ###"
   ]
  },
  {
   "cell_type": "markdown",
   "metadata": {},
   "source": [
    "In order to validate that our model metric results are not due to our choosing of parameters, we will test the model using a 10-fold cross validation to arrive the (1) mean of our model metrics (accuracy and F1 scores) and (2) the best parameters that will yield the best metrics for our model. In this case, I will test both the F1 macro average scoring along with the accuracy score to see what is the best fitted parameters for our model."
   ]
  },
  {
   "cell_type": "markdown",
   "metadata": {},
   "source": [
    "**KNN Classifier $k$-fold validation for *Dataset 1***"
   ]
  },
  {
   "cell_type": "code",
   "execution_count": 200,
   "metadata": {},
   "outputs": [
    {
     "name": "stdout",
     "output_type": "stream",
     "text": [
      "Mean accuracy scores [0.88 0.86 0.82 0.82 0.89 0.86 0.79 0.82 0.87 0.86]\n",
      "cv_scores_ave mean:0.85\n",
      "Mean f1 scores [0.88 0.86 0.82 0.82 0.89 0.86 0.79 0.82 0.87 0.86]\n",
      "cv_scores_f1 mean:0.62\n"
     ]
    }
   ],
   "source": [
    "# KNN validatoin using 3 nearest neighbors\n",
    "#create a new KNN model\n",
    "knn_cv = KNeighborsClassifier(n_neighbors=3)\n",
    "\n",
    "#train model with cv of 5 - accuracy\n",
    "cv_scores_ave = cross_val_score(knn_cv, X, y, cv=10)\n",
    "\n",
    "# train model with cv of 5 - f1 score\n",
    "cv_scores_f1 = cross_val_score(knn_cv, X, y, cv=10, scoring='f1_macro')\n",
    "\n",
    "#print each cv score (accuracy) and average them\n",
    "print('Mean accuracy scores', np.round(cv_scores_ave,2))\n",
    "print('cv_scores_ave mean:{}'.format(np.round(np.mean(cv_scores_ave),2)))\n",
    "\n",
    "#print each cv score (f1 macro) and average them\n",
    "print('Mean f1 scores', np.round(cv_scores_ave,2))\n",
    "print('cv_scores_f1 mean:{}'.format(np.round(np.mean(cv_scores_f1),2)))"
   ]
  },
  {
   "cell_type": "code",
   "execution_count": 202,
   "metadata": {},
   "outputs": [
    {
     "name": "stdout",
     "output_type": "stream",
     "text": [
      "Based parameter based on accuracy: {'n_neighbors': 16}\n",
      "Accuracy score: 0.8649155722326454\n"
     ]
    }
   ],
   "source": [
    "#create new a knn model testing 1 to 25 nearest neighbors based on accuracy. \n",
    "knn2 = KNeighborsClassifier()\n",
    "\n",
    "#create a dictionary of all values we want to test for n_neighbors\n",
    "param_grid = {'n_neighbors': np.arange(1, 25)}\n",
    "\n",
    "#use gridsearch to test all values for n_neighbors\n",
    "knn_gscv = GridSearchCV(knn2, param_grid, cv=10)\n",
    "\n",
    "#fit model to data\n",
    "knn_gscv.fit(X, y)\n",
    "\n",
    "# best parameter based on accuracy\n",
    "print('Based parameter based on accuracy:', knn_gscv.best_params_)\n",
    "\n",
    "#accuracy score\n",
    "print('Accuracy score:', knn_gscv.best_score_)"
   ]
  },
  {
   "cell_type": "code",
   "execution_count": 196,
   "metadata": {},
   "outputs": [
    {
     "name": "stdout",
     "output_type": "stream",
     "text": [
      "Based parameter based on f1 score: {'n_neighbors': 3}\n",
      "f1 score: 0.6041530936948323\n"
     ]
    }
   ],
   "source": [
    "#create new a knn model testing 1 to 25 nearest neighbors based on f1 score\n",
    "warnings.filterwarnings('ignore')\n",
    "knn2 = KNeighborsClassifier()\n",
    "\n",
    "#create a dictionary of all values we want to test for n_neighbors\n",
    "param_grid = {'n_neighbors': np.arange(1, 25)}\n",
    "\n",
    "#use gridsearch to test all values for n_neighbors\n",
    "knn_gscv = GridSearchCV(knn2, param_grid, cv=10, scoring = 'f1_macro')\n",
    "\n",
    "#fit model to data\n",
    "knn_gscv.fit(X, y)\n",
    "\n",
    "# best parameter based on accuracy\n",
    "print('Based parameter based on f1 score:', knn_gscv.best_params_)\n",
    "\n",
    "#accuracy score\n",
    "print('f1 score:', knn_gscv.best_score_)"
   ]
  },
  {
   "cell_type": "markdown",
   "metadata": {},
   "source": [
    "$k$-fold validation let's us tune our parameters and select the best parameter that will yield a better result based on a metric of our choosing. \n",
    "\n",
    "Using the 10 fold validation with the first parameter we chose, 3 nearest neighbors, we can see that the average accuracy is 85% while the F1 score is 62%. These results show that 3 nearest neighbors is a good parameter and yield pretty good classification results.\n",
    "\n",
    "We can further see that for the KNN classifier for ***Dataset 1***, the best parameter using a 10-fold validation is 16 with 86% accuracy. On the other hand, if we use the F1 scoring metric, the best parameter chosen is 3 with an F1 score of 60%. \n",
    "\n",
    "I do think that 16 is a little bit extreme for the number of neighbors to choose for the KNN classifier especially due to the higher proportion of \"bad\" wine in our data. This is because in ***Dataset 1***, there are 1382 \"bad\" wines which is about 86% of our data; if we guess the quality to always be bad, we are likely to be right. Thus, I think a good balance between 3 and 16 will be a good fit for our data as it has already an over .5 F1 score with 3 nearest neighbors. Using 16 nearest neighbors may raise our accuracy but due to the class imbalance in our data, I'd take this number with a grain of salt and go with a more modest number."
   ]
  },
  {
   "cell_type": "markdown",
   "metadata": {},
   "source": [
    "**KNN Classifier $k$-fold validation for *Dataset 2***"
   ]
  },
  {
   "cell_type": "code",
   "execution_count": 208,
   "metadata": {},
   "outputs": [
    {
     "name": "stdout",
     "output_type": "stream",
     "text": [
      "Mean accuracy scores [0.87 0.88 0.82 0.86 0.89 0.83 0.83 0.84 0.88 0.87]\n",
      "cv_scores_ave mean:0.86\n",
      "Mean f1 scores [0.87 0.88 0.82 0.86 0.89 0.83 0.83 0.84 0.88 0.87]\n",
      "cv_scores_f1 mean:0.6\n"
     ]
    }
   ],
   "source": [
    "#create a new KNN model\n",
    "knn_cv = KNeighborsClassifier(n_neighbors=3)\n",
    "\n",
    "#train model with cv of 5 \n",
    "cv_scores_ave = cross_val_score(knn_cv, X_copy, y_copy, cv=10)\n",
    "\n",
    "# train model with cv of 5 - f1 score\n",
    "cv_scores_f1 = cross_val_score(knn_cv, X_copy, y_copy, cv=10, scoring='f1_macro')\n",
    "\n",
    "#print each cv score (accuracy) and average them\n",
    "print('Mean accuracy scores', np.round(cv_scores_ave,2))\n",
    "print('cv_scores_ave mean:{}'.format(np.round(np.mean(cv_scores_ave),2)))\n",
    "\n",
    "#print each cv score (f1 macro) and average them\n",
    "print('Mean f1 scores', np.round(cv_scores_ave,2))\n",
    "print('cv_scores_f1 mean:{}'.format(np.round(np.mean(cv_scores_f1),2)))"
   ]
  },
  {
   "cell_type": "code",
   "execution_count": 204,
   "metadata": {},
   "outputs": [
    {
     "name": "stdout",
     "output_type": "stream",
     "text": [
      "Based parameter based on accuracy: {'n_neighbors': 15}\n",
      "Accuracy score: 0.8842105263157894\n"
     ]
    }
   ],
   "source": [
    "#create new a knn model testing 1 to 25 nearest neighbors based on accuracy. \n",
    "knn2 = KNeighborsClassifier()\n",
    "\n",
    "#create a dictionary of all values we want to test for n_neighbors\n",
    "param_grid = {'n_neighbors': np.arange(1, 25)}\n",
    "\n",
    "#use gridsearch to test all values for n_neighbors\n",
    "knn_gscv = GridSearchCV(knn2, param_grid, cv=10)\n",
    "\n",
    "#fit model to data\n",
    "knn_gscv.fit(X_copy, y_copy)\n",
    "\n",
    "# best parameter based on accuracy\n",
    "print('Based parameter based on accuracy:', knn_gscv.best_params_)\n",
    "\n",
    "#accuracy score\n",
    "print('Accuracy score:', knn_gscv.best_score_)"
   ]
  },
  {
   "cell_type": "code",
   "execution_count": 207,
   "metadata": {},
   "outputs": [
    {
     "name": "stdout",
     "output_type": "stream",
     "text": [
      "Based parameter based on f1 score: {'n_neighbors': 1}\n",
      "f1 score: 0.6450641093982643\n"
     ]
    }
   ],
   "source": [
    "#create new a knn model testing 1 to 25 nearest neighbors based on f1 score\n",
    "warnings.filterwarnings('ignore')\n",
    "knn2 = KNeighborsClassifier()\n",
    "\n",
    "#create a dictionary of all values we want to test for n_neighbors\n",
    "param_grid = {'n_neighbors': np.arange(1, 25)}\n",
    "\n",
    "#use gridsearch to test all values for n_neighbors\n",
    "knn_gscv = GridSearchCV(knn2, param_grid, cv=10, scoring = 'f1_macro')\n",
    "\n",
    "#fit model to data\n",
    "knn_gscv.fit(X_copy, y_copy)\n",
    "\n",
    "# best parameter based on accuracy\n",
    "print('Based parameter based on f1 score:', knn_gscv.best_params_)\n",
    "\n",
    "#accuracy score\n",
    "print('f1 score:', knn_gscv.best_score_)"
   ]
  },
  {
   "cell_type": "markdown",
   "metadata": {},
   "source": [
    "Using the 10 fold validation with the first parameter we chose, 3 nearest neighbors, we can see that the average accuracy is 86% while the F1 score is 60%. These results show that 3 nearest neighbors is still a good parameter and yield pretty good classification results even for our dataset with all possible outliers taken out (***Dataset 2***).\n",
    "\n",
    "We can further see that for the KNN classifier for Dataset 1, the best parameter using a 10-fold validation is 15 with 88% accuracy. On the other hand, if we use the F1 scoring metric, the best parameter chosen is 1 with an F1 score of 65%.\n",
    "\n",
    "Using a 1 nearest neighbor for a classification may not be the best practice when it comes to classification as it may cause overfitting."
   ]
  },
  {
   "cell_type": "markdown",
   "metadata": {},
   "source": [
    "**Logistic Regression $k$-fold validation for *Dataset 1***"
   ]
  },
  {
   "cell_type": "code",
   "execution_count": 220,
   "metadata": {
    "scrolled": true
   },
   "outputs": [
    {
     "name": "stdout",
     "output_type": "stream",
     "text": [
      "Mean accuracy score: 0.87\n",
      "Mean f1 score: 0.66\n"
     ]
    }
   ],
   "source": [
    "warnings.filterwarnings('ignore')\n",
    "\n",
    "lr = LogisticRegression()\n",
    "print('Mean accuracy score:', np.round(cross_val_score(lr, X, y, cv=10).mean(),2))\n",
    "print('Mean f1 score:', np.round(cross_val_score(lr, X, y, cv = 10, scoring='f1_macro').mean(),2))"
   ]
  },
  {
   "cell_type": "code",
   "execution_count": 215,
   "metadata": {
    "scrolled": true
   },
   "outputs": [
    {
     "name": "stdout",
     "output_type": "stream",
     "text": [
      "tuned hpyerparameters :(best parameters based on accuracy)  {'C': 10.0, 'penalty': 'l2'}\n",
      "Accuracy score: 0.8755472170106317\n"
     ]
    }
   ],
   "source": [
    "# cross validation to find the best logistic regression parameters based on accuracy\n",
    "\n",
    "warnings.filterwarnings('ignore')\n",
    "grid={\"C\":np.logspace(-3,3,7), \"penalty\":[\"l1\",\"l2\"]} # l1 lasso (square magnitude) l2 ridge (absolute value)\n",
    "logreg=LogisticRegression()\n",
    "logreg_cv=GridSearchCV(logreg,grid,cv=10)\n",
    "logreg_cv.fit(X,y)\n",
    "\n",
    "print(\"tuned hpyerparameters :(best parameters based on accuracy) \",logreg_cv.best_params_)\n",
    "print(\"Accuracy score:\", logreg_cv.best_score_)"
   ]
  },
  {
   "cell_type": "code",
   "execution_count": 216,
   "metadata": {},
   "outputs": [
    {
     "name": "stdout",
     "output_type": "stream",
     "text": [
      "tuned hpyerparameters :(best parameters based on f1 score)  {'C': 10.0, 'penalty': 'l2'}\n",
      "f1 score: 0.6675611647940548\n"
     ]
    }
   ],
   "source": [
    "# cross validation to find the best logistic regression parameters based on f1 score\n",
    "warnings.filterwarnings('ignore')\n",
    "\n",
    "grid={\"C\":np.logspace(-3,3,7), \"penalty\":[\"l1\",\"l2\"]} # l1 lasso (square magnitude) l2 ridge (absolute value)\n",
    "logreg=LogisticRegression()\n",
    "logreg_cv=GridSearchCV(logreg,grid,cv=10, scoring = 'f1_macro')\n",
    "logreg_cv.fit(X,y)\n",
    "\n",
    "print(\"tuned hpyerparameters :(best parameters based on f1 score) \",logreg_cv.best_params_)\n",
    "print(\"f1 score:\",logreg_cv.best_score_)"
   ]
  },
  {
   "cell_type": "markdown",
   "metadata": {},
   "source": [
    "Using the full dataset, ***Dataset 1***, we can see that the accuracy is at 87% and the F1 score is at 64% with a 10-fold cross validation. These respective values are higher than the 10-fold validation results using the KNN classifier wiht $k =3$.\n",
    "\n",
    "We can also see that when cross validating the logistic model, the validation using accuracy and F1 scores are the same for the C and the ridge regularization penalty. Both of the respective results are also higher than the KNN results at 88% and 67%, respectively."
   ]
  },
  {
   "cell_type": "markdown",
   "metadata": {},
   "source": [
    "**Logistic Regression $k$-fold validation for *Dataset 2***"
   ]
  },
  {
   "cell_type": "code",
   "execution_count": 225,
   "metadata": {},
   "outputs": [
    {
     "name": "stdout",
     "output_type": "stream",
     "text": [
      "Mean accuracy score: 0.89\n",
      "Mean f1 score: 0.66\n"
     ]
    }
   ],
   "source": [
    "warnings.filterwarnings('ignore')\n",
    "\n",
    "lr = LogisticRegression()\n",
    "print('Mean accuracy score:', np.round(cross_val_score(lr, X_copy, y_copy, cv=10).mean(),2))\n",
    "print('Mean f1 score:', np.round(cross_val_score(lr, X_copy, y_copy, cv = 10, scoring='f1_macro').mean(),2))"
   ]
  },
  {
   "cell_type": "code",
   "execution_count": 229,
   "metadata": {},
   "outputs": [
    {
     "name": "stdout",
     "output_type": "stream",
     "text": [
      "tuned hpyerparameters :(best parameters based on accuracy)  {'C': 100.0, 'penalty': 'l1'}\n",
      "Accuracy score: 0.8947368421052632\n"
     ]
    }
   ],
   "source": [
    "grid={\"C\":np.logspace(-3,3,7), \"penalty\":[\"l1\",\"l2\"]}# l1 lasso l2 ridge\n",
    "logreg=LogisticRegression()\n",
    "logreg_cv=GridSearchCV(logreg,grid,cv=10)\n",
    "logreg_cv.fit(X_copy,y_copy)\n",
    "\n",
    "print(\"tuned hpyerparameters :(best parameters based on accuracy) \",logreg_cv.best_params_)\n",
    "print(\"Accuracy score:\", logreg_cv.best_score_)"
   ]
  },
  {
   "cell_type": "code",
   "execution_count": 228,
   "metadata": {},
   "outputs": [
    {
     "name": "stdout",
     "output_type": "stream",
     "text": [
      "tuned hpyerparameters :(best parameters based on f1 score)  {'C': 1000.0, 'penalty': 'l2'}\n",
      "f1 score: 0.6894430827995728\n"
     ]
    }
   ],
   "source": [
    "# cross validation to find the best logistic regression parameters based on f1 score\n",
    "warnings.filterwarnings('ignore')\n",
    "\n",
    "grid={\"C\":np.logspace(-3,3,7), \"penalty\":[\"l1\",\"l2\"]} # l1 lasso (square magnitude) l2 ridge (absolute value)\n",
    "logreg=LogisticRegression()\n",
    "logreg_cv=GridSearchCV(logreg,grid,cv=10, scoring = 'f1_macro')\n",
    "logreg_cv.fit(X_copy,y_copy)\n",
    "\n",
    "print(\"tuned hpyerparameters :(best parameters based on f1 score) \",logreg_cv.best_params_)\n",
    "print(\"f1 score:\",logreg_cv.best_score_)"
   ]
  },
  {
   "cell_type": "markdown",
   "metadata": {},
   "source": [
    "The accuracy and F1 score using logistic regression on ***Dataset 2*** is 89% and 66%, respectively. These are also higher than the cross validated results for ***Dataset 2*** using KNN classifier.\n",
    "\n",
    "It's interesting to note that the cross validated paramerter selection using accuracy and F1 scores are different in this case. Using accuracy scores, $C=100$ and the lasso regression is the chosen penalty whereas $C=1000$ and ridge regression is chosen using the F1 score.\n",
    "\n",
    "Again, due to the imbalance of the classes, it makes more sense to me to rely more on the F1 scores. Additionally, the validation of the previous logistic regression models on ***Dataset 1*** also suggest the use of ridge regression. Thus, I do think for our model ridge penalty is sufficient."
   ]
  },
  {
   "cell_type": "markdown",
   "metadata": {},
   "source": [
    "If we look back at the correlation matrix in the exploration part of the analysis, we can see some highly correlated input variables that may warrant the use of a lasso regularization or principal component analyis for feature selection. Below, I've selected to use the logistic regression after applying PCA in order to see if this will improve our accuracy and F1 scores."
   ]
  },
  {
   "cell_type": "code",
   "execution_count": 253,
   "metadata": {},
   "outputs": [
    {
     "name": "stdout",
     "output_type": "stream",
     "text": [
      "Classification Report: \n",
      "               precision    recall  f1-score   support\n",
      "\n",
      "           0       0.91      0.96      0.93       277\n",
      "           1       0.59      0.37      0.46        43\n",
      "\n",
      "   micro avg       0.88      0.88      0.88       320\n",
      "   macro avg       0.75      0.67      0.70       320\n",
      "weighted avg       0.87      0.88      0.87       320\n",
      "\n",
      "Confusion Matrix: \n",
      " [[266  11]\n",
      " [ 27  16]]\n",
      "Accuracy: 0.88125\n"
     ]
    }
   ],
   "source": [
    "from sklearn.preprocessing import StandardScaler\n",
    "from sklearn.decomposition import PCA\n",
    "\n",
    "X1_train, X1_test, y1_train, y1_test = train_test_split(X, y, test_size=0.2, random_state=123, stratify=y)\n",
    "\n",
    "# Make an instance of the Model\n",
    "pca = PCA(.95)\n",
    "\n",
    "sc = StandardScaler() # scaling hte variables\n",
    "X1_train = sc.fit_transform(X1_train)\n",
    "X1_test = sc.fit_transform(X1_test)\n",
    "\n",
    "pca.fit(X1_train)\n",
    "X1_train = pca.transform(X1_train)\n",
    "X1_test = pca.transform(X1_test)\n",
    "\n",
    "lr1 = LogisticRegression()\n",
    "lr1.fit(X1_train, y1_train)\n",
    "lr1_predict = lr1.predict(X1_test)\n",
    "\n",
    "#print confusion matrix and accuracy score\n",
    "print('Classification Report: \\n', classification_report(y1_test, lr1_predict))\n",
    "print('Confusion Matrix:', '\\n', confusion_matrix(y1_test, lr1_predict))\n",
    "print('Accuracy:', accuracy_score(y1_test, lr1_predict))"
   ]
  },
  {
   "cell_type": "markdown",
   "metadata": {},
   "source": [
    "We can see that the PCA yields 88% accuracy, similar to our previous logistic regression models with a 70% F1 score, which is higher than the cross validated F1 score results we've previously obtained.\n",
    "\n",
    "I think this warrants that PCA is a useful transformation to our data considering the high correlations amongst some variables. The dimension reduction definitely benefited our results, especially the F1 score."
   ]
  },
  {
   "cell_type": "markdown",
   "metadata": {},
   "source": [
    "### Conclusion ###"
   ]
  },
  {
   "cell_type": "markdown",
   "metadata": {},
   "source": [
    "Overall, I think the best model for this analysis between KNN Classifier and Logistic Regression, is the Logistic Regression. Based on some [research](https://scholar.google.com/scholar?q=knn%20unbalanced%20data&hl=en&as_sdt=0&as_vis=1&oi=scholart), I've learned that KNN Classifier is very susceptible to imbalanced data distribution.\n",
    "\n",
    "Additionally, based on the results, taking out all the outliers for each respective input features does not seem to show significance. ***Dataset 2*** consistently had higher accuracies for all the models listed compared to ***Dataset 1*** but their respective F1 scores are always lower. \n",
    "\n",
    "Logistic regression seems work best when it comes to binary classification considering our results consistently showed higher accuracy and F1 score for all the logistic models. In addition, the application of PCA is beneficial to our model than the lasso regularization."
   ]
  }
 ],
 "metadata": {
  "kernelspec": {
   "display_name": "Python 3",
   "language": "python",
   "name": "python3"
  },
  "language_info": {
   "codemirror_mode": {
    "name": "ipython",
    "version": 3
   },
   "file_extension": ".py",
   "mimetype": "text/x-python",
   "name": "python",
   "nbconvert_exporter": "python",
   "pygments_lexer": "ipython3",
   "version": "3.8.5"
  }
 },
 "nbformat": 4,
 "nbformat_minor": 2
}
